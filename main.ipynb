{
 "cells": [
  {
   "cell_type": "code",
   "execution_count": 1,
   "id": "8a0cb7cc",
   "metadata": {},
   "outputs": [],
   "source": [
    "#importing necessery libraries \n",
    "import pandas as pd\n",
    "import requests\n",
    "from bs4 import BeautifulSoup\n",
    "import os\n",
    "from textblob import TextBlob\n",
    "import syllables"
   ]
  },
  {
   "cell_type": "code",
   "execution_count": 2,
   "id": "bd3c5778",
   "metadata": {},
   "outputs": [],
   "source": [
    "input_file = 'input.xlsx'\n",
    "output_folder = 'extracted_texts'"
   ]
  },
  {
   "cell_type": "code",
   "execution_count": 3,
   "id": "c463ef1c",
   "metadata": {
    "scrolled": false
   },
   "outputs": [
    {
     "name": "stdout",
     "output_type": "stream",
     "text": [
      "Extraction completed. Text files saved in 'extracted_texts' folder.\n"
     ]
    }
   ],
   "source": [
    "#checking if a directory or file exists at the path\n",
    "if not os.path.exists(output_folder):\n",
    "    os.makedirs(output_folder)\n",
    "\n",
    "df = pd.read_excel(input_file)\n",
    "\n",
    "# Function to extract article text from URL\n",
    "def extract_article_text(url):\n",
    "    try:\n",
    "        response = requests.get(url)\n",
    "        soup = BeautifulSoup(response.text, 'html.parser')\n",
    "        \n",
    "        \n",
    "        article = soup.find('div', class_='article-body')  \n",
    "        \n",
    "        # Extracting title and content\n",
    "        title = soup.find('h1').text.strip() if soup.find('h1') else \"No Title Found\"\n",
    "        content = article.text.strip() if article else \"No Content Found\"\n",
    "        \n",
    "        return title, content\n",
    "    except Exception as e:\n",
    "        print(f\"Error processing URL: {url}. Error: {e}\")\n",
    "        return \"Error\", \"Error\"\n",
    "\n",
    "# Loop through URLs and extract article text\n",
    "for index, row in df.iterrows():\n",
    "    url_id = row['URL_ID']\n",
    "    url = row['URL']\n",
    "    \n",
    "    title, content = extract_article_text(url)\n",
    "    \n",
    "    # Saving extracted text into a text file\n",
    "    file_name = f\"{url_id}.txt\"\n",
    "    file_path = os.path.join(output_folder, file_name)\n",
    "    \n",
    "    with open(file_path, 'w', encoding='utf-8') as file:\n",
    "        file.write(f\"Title: {title}\\n\\n\")\n",
    "        file.write(content)\n",
    "\n",
    "print(\"Extraction completed. Text files saved in 'extracted_texts' folder.\")"
   ]
  },
  {
   "cell_type": "code",
   "execution_count": 5,
   "id": "6a66f4e9",
   "metadata": {},
   "outputs": [
    {
     "name": "stdout",
     "output_type": "stream",
     "text": [
      "Output file created as 'Output.xlsx'\n"
     ]
    }
   ],
   "source": [
    "def perform_text_analysis(text):\n",
    "    blob = TextBlob(text)\n",
    "    word_count = len(blob.words)\n",
    "    sentence_count = len(blob.sentences)\n",
    "    avg_sentence_length = word_count / sentence_count\n",
    "    complex_words = [word for word in blob.words if syllables.estimate(word) > 2]\n",
    "    complex_word_count = len(complex_words)\n",
    "    percentage_complex_words = (complex_word_count / word_count) * 100\n",
    "    syllable_count = sum(syllables.estimate(word) for word in blob.words)\n",
    "    avg_syllables_per_word = syllable_count / word_count\n",
    "    personal_pronouns = sum(1 for word, pos in blob.tags if pos == 'PRP')\n",
    "\n",
    "    # Computing polarity and subjectivity\n",
    "    polarity = blob.sentiment.polarity\n",
    "    subjectivity = blob.sentiment.subjectivity\n",
    "    \n",
    "    # Calculating FOG INDEX\n",
    "    fog_index = 0.4 * (avg_sentence_length + percentage_complex_words)\n",
    "\n",
    "    # Calculating AVG NUMBER OF WORDS PER SENTENCE\n",
    "    avg_words_per_sentence = word_count / sentence_count\n",
    "\n",
    "    # Calculating AVG WORD LENGTH\n",
    "    avg_word_length = syllable_count / word_count\n",
    "    \n",
    "    return {\n",
    "        'POSITIVE SCORE': max(polarity, 0),\n",
    "        'NEGATIVE SCORE': abs(min(polarity, 0)),\n",
    "        'POLARITY SCORE': polarity,\n",
    "        'SUBJECTIVITY SCORE': subjectivity,\n",
    "        'AVG SENTENCE LENGTH': avg_sentence_length,\n",
    "        'PERCENTAGE OF COMPLEX WORDS': percentage_complex_words,\n",
    "        'FOG INDEX': fog_index,\n",
    "        'AVG NUMBER OF WORDS PER SENTENCE': avg_words_per_sentence,\n",
    "        'COMPLEX WORD COUNT': complex_word_count,\n",
    "        'WORD COUNT': word_count,\n",
    "        'SYLLABLE PER WORD': avg_syllables_per_word,\n",
    "        'PERSONAL PRONOUNS': personal_pronouns,\n",
    "        'AVG WORD LENGTH': avg_word_length,\n",
    "    }\n",
    "\n",
    "\n",
    "results = []\n",
    "for index, row in df.iterrows():\n",
    "    url_id = row['URL_ID']\n",
    "    file_name = f\"{url_id}.txt\"\n",
    "    file_path = os.path.join(output_folder, file_name)\n",
    "    \n",
    "    with open(file_path, 'r', encoding='utf-8') as file:\n",
    "        text = file.read()\n",
    "        analysis = perform_text_analysis(text)\n",
    "        results.append(analysis)\n",
    "\n",
    "# Converting results to DataFrame\n",
    "analysis_df = pd.DataFrame(results)\n",
    "\n",
    "# Merging analysis data with the original data\n",
    "output_data = pd.concat([df, analysis_df], axis=1)\n",
    "\n",
    "# Saving output to Excel \n",
    "output_data.to_excel('Output.xlsx', index=False)  # For Excel format\n",
    "# output_data.to_csv('Output.csv', index=False)  # For CSV format\n",
    "\n",
    "print(\"Output file created as 'Output.xlsx'\")"
   ]
  },
  {
   "cell_type": "code",
   "execution_count": null,
   "id": "c6bcaf6a",
   "metadata": {},
   "outputs": [],
   "source": []
  }
 ],
 "metadata": {
  "kernelspec": {
   "display_name": "Python 3 (ipykernel)",
   "language": "python",
   "name": "python3"
  },
  "language_info": {
   "codemirror_mode": {
    "name": "ipython",
    "version": 3
   },
   "file_extension": ".py",
   "mimetype": "text/x-python",
   "name": "python",
   "nbconvert_exporter": "python",
   "pygments_lexer": "ipython3",
   "version": "3.11.5"
  }
 },
 "nbformat": 4,
 "nbformat_minor": 5
}
